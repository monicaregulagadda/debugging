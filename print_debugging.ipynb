{
 "cells": [
  {
   "cell_type": "code",
   "execution_count": 10,
   "id": "045dc500-4252-4974-824c-6b2d74936c48",
   "metadata": {},
   "outputs": [
    {
     "name": "stdout",
     "output_type": "stream",
     "text": [
      "we are making an error here in the loop: 6\n",
      "The correct answer supposed to be: 2 \n",
      "we are making an error here in the loop: 9\n",
      "The correct answer supposed to be: 3 \n",
      "we are making an error here in the loop: 12\n",
      "The correct answer supposed to be: 4 \n"
     ]
    },
    {
     "data": {
      "text/plain": [
       "[2, 3, 4]"
      ]
     },
     "execution_count": 10,
     "metadata": {},
     "output_type": "execute_result"
    }
   ],
   "source": [
    "# 1.a\n",
    "def wrong_add_function(arg1,arg2):\n",
    "    arg1_index=0\n",
    "    while arg1_index < len(arg1):\n",
    "        arg_2_sum = 0\n",
    "        for arg2_elements in arg2:\n",
    "            arg_2_sum = sum([arg1[arg1_index]+i for i in arg2])\n",
    "            print(f\"we are making an error here in the loop: {arg_2_sum}\")\n",
    "            print(f\"The correct answer supposed to be: {arg1[arg1_index] + arg2[arg1_index]} \")\n",
    "            arg1[arg1_index]=arg_2_sum\n",
    "            arg1_index+=1\n",
    "    return arg1\n",
    "\n",
    "    \n",
    "arg1 = [1,2,3]\n",
    "arg2 = [1,1,1]\n",
    "wrong_add_function(arg1, arg2)\n",
    "\n",
    "#1.b\n",
    "def correct_add_function(arg1,arg2):\n",
    "    arg1_index=0\n",
    "    while arg1_index < len(arg1):\n",
    "        arg1[arg1_index] = arg1[arg1_index] + arg2[arg1_index] \n",
    "        arg1_index += 1\n",
    "    return arg1\n",
    "\n",
    "    \n",
    "arg1 = [1,2,3]\n",
    "arg2 = [1,1,1]\n",
    "correct_add_function(arg1, arg2)\n",
    "    \n",
    "\n",
    "\n",
    "    "
   ]
  },
  {
   "cell_type": "code",
   "execution_count": null,
   "id": "fc8d1217-a14b-4a29-bc84-1f0155d1536a",
   "metadata": {},
   "outputs": [],
   "source": []
  },
  {
   "cell_type": "code",
   "execution_count": null,
   "id": "a3db347a-35b9-447b-98f0-febe1339d3c2",
   "metadata": {},
   "outputs": [],
   "source": []
  }
 ],
 "metadata": {
  "kernelspec": {
   "display_name": "Python 3 (ipykernel)",
   "language": "python",
   "name": "python3"
  },
  "language_info": {
   "codemirror_mode": {
    "name": "ipython",
    "version": 3
   },
   "file_extension": ".py",
   "mimetype": "text/x-python",
   "name": "python",
   "nbconvert_exporter": "python",
   "pygments_lexer": "ipython3",
   "version": "3.12.5"
  }
 },
 "nbformat": 4,
 "nbformat_minor": 5
}
