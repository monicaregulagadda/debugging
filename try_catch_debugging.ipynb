{
 "cells": [
  {
   "cell_type": "code",
   "execution_count": 51,
   "id": "aba4e878-ff45-47f7-8f94-e04bc3d90010",
   "metadata": {},
   "outputs": [
    {
     "name": "stdout",
     "output_type": "stream",
     "text": [
      "Corrected the numeric function 2.a and printing the arg1 list\n",
      "[2, 3, 4]\n",
      "Your input argument 1 at element [0] is not of the expected type. Please change this and rerun\n"
     ]
    },
    {
     "data": {
      "text/plain": [
       "['11', '211', '3111']"
      ]
     },
     "execution_count": 51,
     "metadata": {},
     "output_type": "execute_result"
    }
   ],
   "source": [
    "#2.a\n",
    "def wrong_add_function(arg1,arg2):\n",
    "    #numeric section\n",
    "    if sum([type(i)==int for i in arg1])==len(arg1) and \\\n",
    "        sum([type(i)==int for i in arg2])==len(arg2):\n",
    "        arg1_index=0\n",
    "        print(\"Corrected the numeric function 2.a and printing the arg1 list\")\n",
    "        while arg1_index < len(arg1):\n",
    "            arg1[arg1_index] = arg1[arg1_index] + arg2[arg1_index] \n",
    "            arg1_index += 1\n",
    "        print(arg1)\n",
    "        #string section\n",
    "    elif sum([type(i)==str for i in arg1])==len(arg1) and \\\n",
    "        sum([type(i)==str for i in arg2])==len(arg2):\n",
    "        arg1_index=0\n",
    "        while arg1_index < len(arg1):\n",
    "            arg_2_sum = ''\n",
    "            for arg2_elements in arg2:\n",
    "                arg_2_sum += arg2_elements\n",
    "                arg1[arg1_index]=arg1[arg1_index]+str(arg_2_sum)\n",
    "                arg1_index+=1\n",
    "    return arg1\n",
    "    \n",
    "arg1=[1,2,3]    \n",
    "arg2=[1,1,1]\n",
    "wrong_add_function(arg1,arg2)\n",
    "\n",
    "\n",
    "#2.b\n",
    "def exception_add_function(arg1,arg2):\n",
    "    try:\n",
    "        if sum([type(i) == int for i in arg1]) != len(arg1):\n",
    "            raise TypeError(f\"Your input argument 1 at element [{[i for i, e in enumerate(arg1) if type(e) != int][0]}] is not of the expected type. Please change this and rerun\")\n",
    "        if sum([type(i) == int for i in arg2]) != len(arg2):\n",
    "            raise TypeError(f\"Your input argument 2 at element [{[i for i, e in enumerate(arg2) if type(e) != int][0]}] is not of the expected type. Please change this and rerun\")\n",
    "        #numeric section\n",
    "            if sum([type(i)==int for i in arg1])==len(arg1) and \\\n",
    "                sum([type(i)==int for i in arg2])==len(arg2):\n",
    "                arg1_index=0\n",
    "                while arg1_index < len(arg1):\n",
    "                    arg1[arg1_index] = arg1[arg1_index] + arg2[arg1_index] \n",
    "                    arg1_index += 1\n",
    "                return arg1\n",
    "                #string section\n",
    "            elif sum([type(i)==str for i in arg1])==len(arg1) and \\\n",
    "                sum([type(i)==str for i in arg2])==len(arg2):\n",
    "                arg1_index=0\n",
    "                while arg1_index < len(arg1):\n",
    "                    arg_2_sum = ''\n",
    "                    for arg2_elements in arg2:\n",
    "                        arg_2_sum += arg2_elements\n",
    "                        arg1[arg1_index]=arg1[arg1_index]+str(arg_2_sum)\n",
    "                        arg1_index+=1\n",
    "            return arg1\n",
    "    except TypeError as e:\n",
    "       print(e)\n",
    "    \n",
    "arg1=[\"5\", 2 ,\"5\"]\n",
    "arg2=[1,1,1]\n",
    "exception_add_function(arg1,arg2)\n",
    "\n",
    "#2.c\n",
    "def correction_add_function(arg1,arg2):\n",
    "    try:\n",
    "        if sum([type(i)==str for i in arg1])==len(arg1) and \\\n",
    "                    sum([type(i)==str for i in arg2])==len(arg2):\n",
    "            if sum([type(i)==int for i in arg1])==len(arg1) and \\\n",
    "            sum([type(i)==int for i in arg2])==len(arg2):\n",
    "                arg1_index=0\n",
    "                while arg1_index < len(arg1):\n",
    "                    arg1[arg1_index] = arg1[arg1_index] + arg2[arg1_index] \n",
    "                    arg1_index += 1\n",
    "                return arg1\n",
    "            #string section\n",
    "            elif sum([type(i)==str for i in arg1])==len(arg1) and \\\n",
    "                sum([type(i)==str for i in arg2])==len(arg2):\n",
    "                arg1_index=0\n",
    "                while arg1_index < len(arg1):\n",
    "                    arg_2_sum = ''\n",
    "                    for arg2_elements in arg2:\n",
    "                        arg_2_sum += arg2_elements\n",
    "                        arg1[arg1_index]=arg1[arg1_index]+str(arg_2_sum)\n",
    "                        arg1_index+=1\n",
    "            return arg1\n",
    "        raise ValueError(\"Input list is invalid\")\n",
    "    except ValueError as e:\n",
    "        return str(e)\n",
    "\n",
    "arg_str_3=['1','2','3']\n",
    "arg_str_4=['1','1', '1']\n",
    "correction_add_function(arg_str_3,arg_str_4)"
   ]
  },
  {
   "cell_type": "code",
   "execution_count": null,
   "id": "e6f3b001-eda2-4ba4-a146-a490dad931d1",
   "metadata": {},
   "outputs": [],
   "source": []
  },
  {
   "cell_type": "code",
   "execution_count": null,
   "id": "8f844837-fda1-45dd-8a50-13c7bbddf689",
   "metadata": {},
   "outputs": [],
   "source": []
  }
 ],
 "metadata": {
  "kernelspec": {
   "display_name": "Python 3 (ipykernel)",
   "language": "python",
   "name": "python3"
  },
  "language_info": {
   "codemirror_mode": {
    "name": "ipython",
    "version": 3
   },
   "file_extension": ".py",
   "mimetype": "text/x-python",
   "name": "python",
   "nbconvert_exporter": "python",
   "pygments_lexer": "ipython3",
   "version": "3.12.5"
  }
 },
 "nbformat": 4,
 "nbformat_minor": 5
}
